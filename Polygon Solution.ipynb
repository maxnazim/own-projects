{
 "cells": [
  {
   "cell_type": "code",
   "execution_count": 80,
   "metadata": {},
   "outputs": [],
   "source": [
    "# initialize list\n",
    "cord = [[1,1],[1,5],[6,6],[7,3],[6,1]]"
   ]
  },
  {
   "cell_type": "code",
   "execution_count": 82,
   "metadata": {},
   "outputs": [
    {
     "name": "stdout",
     "output_type": "stream",
     "text": [
      "[1, 1]\n",
      "[1, 5]\n",
      "[6, 6]\n",
      "[7, 3]\n",
      "[6, 1]\n"
     ]
    }
   ],
   "source": [
    "# print coordinates\n",
    "for x in range(len(cord)):\n",
    "    print (cord[x])"
   ]
  },
  {
   "cell_type": "code",
   "execution_count": 86,
   "metadata": {},
   "outputs": [
    {
     "name": "stdout",
     "output_type": "stream",
     "text": [
      "[[1, 1], [1, 5], [6, 6], [7, 3], [6, 1]]\n",
      "total nos. of coordinates: 5\n",
      "the first coordinate is: [1, 1]\n",
      "the last coordinate is: [6, 1]\n",
      "the last index in list is: 4\n",
      "[1, 1] [1, 5]\n",
      "4\n",
      "[1, 5] [6, 6]\n",
      "-24\n",
      "[6, 6] [7, 3]\n",
      "-24\n",
      "[7, 3] [6, 1]\n",
      "-11\n",
      "[6, 1] [1, 1]\n",
      "5\n",
      "50\n",
      "total polygon area is : 25.0\n"
     ]
    }
   ],
   "source": [
    "# print coordinates\n",
    "print (cord)\n",
    "\n",
    "# initialize multiplying sets\n",
    "\n",
    "print (\"total nos. of coordinates: \" + str(len(cord)))\n",
    "\n",
    "print (\"the first coordinate is: \" + str(cord[0]))\n",
    "print (\"the last coordinate is: \" + str(cord[-1]))\n",
    "\n",
    "last_index = len(cord) - 1\n",
    "print (\"the last index in list is: \" + str(last_index))\n",
    "\n",
    "\n",
    "i = 0\n",
    "sum = 0\n",
    "totalSum = 0\n",
    "\n",
    "while i < last_index:\n",
    "    for j in range(1):\n",
    "        print (cord[i], cord[i+1])\n",
    "        X1 = cord[i][j]\n",
    "        Y1 = cord[i][j+1]\n",
    "        X2 = cord[i+1][j]\n",
    "        Y2 = cord[i+1][j+1]\n",
    "        sum = ((X1*Y2)-(X2*Y1))\n",
    "        print (sum) \n",
    "    totalSum = totalSum + sum\n",
    "    i += 1\n",
    "\n",
    "\n",
    "# to calculate sum of last vertex \n",
    "print (cord[-1],cord[0])\n",
    "for j in range(1):\n",
    "    X1 = cord[-1][j]\n",
    "    Y1 = cord[-1][j+1]\n",
    "    X2 = cord[0][0]\n",
    "    Y2 = cord[0][j+1]\n",
    "    lastSum = ((X1*Y2)-(X2*Y1))\n",
    "    print (lastSum)\n",
    "    \n",
    "\n",
    "areaSum = abs(totalSum + lastSum)\n",
    "print (areaSum)\n",
    "print(\"total polygon area is : \" + str((areaSum)/2))\n",
    "    \n",
    "\n",
    "  "
   ]
  },
  {
   "cell_type": "code",
   "execution_count": null,
   "metadata": {},
   "outputs": [],
   "source": []
  },
  {
   "cell_type": "code",
   "execution_count": null,
   "metadata": {},
   "outputs": [],
   "source": []
  }
 ],
 "metadata": {
  "kernelspec": {
   "display_name": "Python 3",
   "language": "python",
   "name": "python3"
  },
  "language_info": {
   "codemirror_mode": {
    "name": "ipython",
    "version": 3
   },
   "file_extension": ".py",
   "mimetype": "text/x-python",
   "name": "python",
   "nbconvert_exporter": "python",
   "pygments_lexer": "ipython3",
   "version": "3.7.6"
  }
 },
 "nbformat": 4,
 "nbformat_minor": 4
}
